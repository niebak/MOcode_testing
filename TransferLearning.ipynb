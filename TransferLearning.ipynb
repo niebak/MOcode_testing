{
 "cells": [
  {
   "attachments": {},
   "cell_type": "markdown",
   "metadata": {},
   "source": [
    "# Transfer learning\n",
    "Transfer learning is when you train a model on a general dataset, and then introduce more data that is specific to a task and retrain it towards that specific goal. In this example We will use a general model for image classification and then retrain it to classify cats and dogs.\n",
    "\n",
    "Example from \"https://www.tensorflow.org/tutorials/images/transfer_learning\""
   ]
  },
  {
   "cell_type": "code",
   "execution_count": null,
   "metadata": {},
   "outputs": [],
   "source": []
  }
 ],
 "metadata": {
  "kernelspec": {
   "display_name": "base",
   "language": "python",
   "name": "python3"
  },
  "language_info": {
   "name": "python",
   "version": "3.9.13 (main, Aug 25 2022, 23:51:50) [MSC v.1916 64 bit (AMD64)]"
  },
  "orig_nbformat": 4,
  "vscode": {
   "interpreter": {
    "hash": "ef9368fb0598298b9cefd653e4a8ff8762cd889f619688834b9d9d7c4d518b75"
   }
  }
 },
 "nbformat": 4,
 "nbformat_minor": 2
}
